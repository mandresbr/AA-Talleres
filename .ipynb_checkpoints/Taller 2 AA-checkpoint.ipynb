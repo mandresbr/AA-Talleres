{
 "cells": [
  {
   "cell_type": "markdown",
   "metadata": {},
   "source": [
    "# Aprendizaje Automático\n",
    "## Segunda práctica\n",
    "---\n",
    "Para la segunda práctica del curso de aprendizaje automático, se utilizará el mismo conjunto de datos que pertenece al repositorio especial de Machine Learning de la [UCI](https://archive.ics.uci.edu/ml). El conjunto de datos se llama \"Adult\" y toda la información correspondiente al mismo se encuentra [aquí](https://archive.ics.uci.edu/ml/datasets/Adult).\n",
    "\n",
    "---\n",
    "### Árboles de Decisión y Regresión\n",
    "\n",
    "Un árbol de decisión es un árbol donde cada nodo representa una característica (atributo), cada enlace (rama) representa una decisión (regla) y cada hoja representa un resultado (valor categórico o continuo).\n",
    "\n",
    "Los DT (Decision Trees) son ampliamente usados en Machine Learning para resolver problemas de clasificación y regresión. En la segunda práctica del curso de Aprendizaje Automático se construirán Árboles de Decisión en Python con la librería sci-kit learn y con el conjunto de datos suministrado.\n",
    "\n",
    "---\n",
    "Dado que en principio se requieren cargar los datos del conjunto de datos Adult tal como lo hacíamos en R, en la siguiente celda escriba el código necesario para cargar los datos tanto de entrenamiento como de prueba del conjunto de datos. **Nota:** tenga en cuenta que debe realizar las mismas operaciones de la práctica pasada: eliminar valores faltantes y convertir atributos a numéricos"
   ]
  },
  {
   "cell_type": "code",
   "execution_count": null,
   "metadata": {},
   "outputs": [],
   "source": []
  },
  {
   "cell_type": "markdown",
   "metadata": {},
   "source": [
    "Luego de cargar los datos, entrene un `Decision Tree Classifier` con los datos de entrenamiento y realice la predicción correspondiente con los datos de prueba."
   ]
  },
  {
   "cell_type": "code",
   "execution_count": null,
   "metadata": {},
   "outputs": [],
   "source": []
  },
  {
   "cell_type": "markdown",
   "metadata": {},
   "source": [
    "Para visualizar el efecto del clasificador que acaba de entrenar y probar, aplique al resultado las diversas métricas de desempeño que hemos visto: \n",
    "* Matriz de confusión. \n",
    "* Accuracy\n",
    "* Precision\n",
    "* Recall\n",
    "* F1-Score"
   ]
  },
  {
   "cell_type": "code",
   "execution_count": null,
   "metadata": {},
   "outputs": [],
   "source": []
  },
  {
   "cell_type": "markdown",
   "metadata": {},
   "source": [
    "Ahora, entrene un `Decision Tree Regressor` con los datos de entrenamiento y realice la predicción correspondiente con los datos de prueba."
   ]
  },
  {
   "cell_type": "code",
   "execution_count": null,
   "metadata": {},
   "outputs": [],
   "source": []
  },
  {
   "cell_type": "markdown",
   "metadata": {},
   "source": [
    "Por último, evalúe el Regresor con las métricas de desempeño (tasas de error) asociadas a la regresión (MAE, MSE, RMSE)"
   ]
  },
  {
   "cell_type": "code",
   "execution_count": null,
   "metadata": {},
   "outputs": [],
   "source": []
  }
 ],
 "metadata": {
  "kernelspec": {
   "display_name": "Python 3",
   "language": "python",
   "name": "python3"
  },
  "language_info": {
   "codemirror_mode": {
    "name": "ipython",
    "version": 3
   },
   "file_extension": ".py",
   "mimetype": "text/x-python",
   "name": "python",
   "nbconvert_exporter": "python",
   "pygments_lexer": "ipython3",
   "version": "3.6.5"
  }
 },
 "nbformat": 4,
 "nbformat_minor": 2
}
